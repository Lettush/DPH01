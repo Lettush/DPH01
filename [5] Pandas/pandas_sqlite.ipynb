{
 "cells": [
  {
   "cell_type": "code",
   "execution_count": 1,
   "metadata": {},
   "outputs": [],
   "source": [
    "# Load SQL Extension\n",
    "%load_ext sql"
   ]
  },
  {
   "cell_type": "code",
   "execution_count": 2,
   "metadata": {},
   "outputs": [],
   "source": [
    "# Created sql-methods.db\n",
    "%sql sqlite:///pandas-sql.db"
   ]
  },
  {
   "cell_type": "code",
   "execution_count": 1,
   "metadata": {},
   "outputs": [
    {
     "name": "stdout",
     "output_type": "stream",
     "text": [
      "Note: you may need to restart the kernel to use updated packages.\n"
     ]
    },
    {
     "name": "stderr",
     "output_type": "stream",
     "text": [
      "ERROR: Could not find a version that satisfies the requirement sqlite3 (from versions: none)\n",
      "ERROR: No matching distribution found for sqlite3\n",
      "\n",
      "[notice] A new release of pip is available: 23.2.1 -> 24.0\n",
      "[notice] To update, run: python.exe -m pip install --upgrade pip\n"
     ]
    }
   ],
   "source": [
    "# Installing SQLite\n",
    "%pip install sqlite3"
   ]
  },
  {
   "cell_type": "code",
   "execution_count": 5,
   "metadata": {},
   "outputs": [
    {
     "name": "stdout",
     "output_type": "stream",
     "text": [
      " * sqlite:///pandas-sql.db\n",
      "Done.\n"
     ]
    },
    {
     "data": {
      "text/plain": [
       "[]"
      ]
     },
     "execution_count": 5,
     "metadata": {},
     "output_type": "execute_result"
    }
   ],
   "source": [
    "%%sql\n",
    "CREATE TABLE IF NOT EXISTS employees (\n",
    "    employee_id INT PRIMARY KEY AUTOINCREMENT,\n",
    "    first_name VARCHAR(50) NOT NULL,\n",
    "    last_name VARCHAR(50) NOT NULL,\n",
    "    department VARCHAR(50),\n",
    "    salary DECIMAL(10, 2) NOT NULL\n",
    ");"
   ]
  },
  {
   "cell_type": "code",
   "execution_count": 7,
   "metadata": {},
   "outputs": [
    {
     "name": "stdout",
     "output_type": "stream",
     "text": [
      " * sqlite:///pandas-sql.db\n",
      "Done.\n",
      "Done.\n",
      "1 rows affected.\n",
      "1 rows affected.\n",
      "1 rows affected.\n",
      "1 rows affected.\n",
      "1 rows affected.\n"
     ]
    },
    {
     "data": {
      "text/plain": [
       "[]"
      ]
     },
     "execution_count": 7,
     "metadata": {},
     "output_type": "execute_result"
    }
   ],
   "source": [
    "%%sql\n",
    "ALTER TABLE employees\n",
    "ADD hire_date DATE;\n",
    "\n",
    "ALTER TABLE employees\n",
    "ADD performance_rating INT;\n",
    "\n",
    "INSERT INTO employees (employee_id, first_name, last_name, department, salary, hire_date, performance_rating) \n",
    "VALUES (1, 'John', 'Doe', 'Sales', 50000.00, '2024-04-23', 3);\n",
    "\n",
    "INSERT INTO employees (employee_id, first_name, last_name, department, salary, hire_date, performance_rating) \n",
    "VALUES (2, 'Jane', 'Smith', 'Marketing', 55000.00, '2024-04-25', 4);\n",
    "\n",
    "INSERT INTO employees (employee_id, first_name, last_name, department, salary, hire_date, performance_rating) \n",
    "VALUES (3, 'Michael', 'Johnson', 'Sales', 60000.00, '2024-04-26', 5);\n",
    "\n",
    "INSERT INTO employees (employee_id, first_name, last_name, department, salary, hire_date, performance_rating) \n",
    "VALUES (4, 'Emily', 'Davis', 'Operations', 62000.00, '2024-04-27', 2);\n",
    "\n",
    "INSERT INTO employees (employee_id, first_name, last_name, department, salary, hire_date, performance_rating) \n",
    "VALUES (5, 'David', 'Wilson', 'Operations', 58000.00, '2024-04-28', 1);"
   ]
  },
  {
   "cell_type": "code",
   "execution_count": 13,
   "metadata": {},
   "outputs": [
    {
     "data": {
      "text/html": [
       "<div>\n",
       "<style scoped>\n",
       "    .dataframe tbody tr th:only-of-type {\n",
       "        vertical-align: middle;\n",
       "    }\n",
       "\n",
       "    .dataframe tbody tr th {\n",
       "        vertical-align: top;\n",
       "    }\n",
       "\n",
       "    .dataframe thead th {\n",
       "        text-align: right;\n",
       "    }\n",
       "</style>\n",
       "<table border=\"1\" class=\"dataframe\">\n",
       "  <thead>\n",
       "    <tr style=\"text-align: right;\">\n",
       "      <th></th>\n",
       "      <th>employee_id</th>\n",
       "      <th>first_name</th>\n",
       "      <th>last_name</th>\n",
       "      <th>department</th>\n",
       "      <th>salary</th>\n",
       "      <th>hire_date</th>\n",
       "      <th>performance_rating</th>\n",
       "    </tr>\n",
       "  </thead>\n",
       "  <tbody>\n",
       "    <tr>\n",
       "      <th>0</th>\n",
       "      <td>1</td>\n",
       "      <td>John</td>\n",
       "      <td>Doe</td>\n",
       "      <td>Sales</td>\n",
       "      <td>50000</td>\n",
       "      <td>2024-04-23</td>\n",
       "      <td>3</td>\n",
       "    </tr>\n",
       "    <tr>\n",
       "      <th>1</th>\n",
       "      <td>2</td>\n",
       "      <td>Jane</td>\n",
       "      <td>Smith</td>\n",
       "      <td>Marketing</td>\n",
       "      <td>55000</td>\n",
       "      <td>2024-04-25</td>\n",
       "      <td>4</td>\n",
       "    </tr>\n",
       "    <tr>\n",
       "      <th>2</th>\n",
       "      <td>3</td>\n",
       "      <td>Michael</td>\n",
       "      <td>Johnson</td>\n",
       "      <td>Sales</td>\n",
       "      <td>60000</td>\n",
       "      <td>2024-04-26</td>\n",
       "      <td>5</td>\n",
       "    </tr>\n",
       "    <tr>\n",
       "      <th>3</th>\n",
       "      <td>4</td>\n",
       "      <td>Emily</td>\n",
       "      <td>Davis</td>\n",
       "      <td>Operations</td>\n",
       "      <td>62000</td>\n",
       "      <td>2024-04-27</td>\n",
       "      <td>2</td>\n",
       "    </tr>\n",
       "    <tr>\n",
       "      <th>4</th>\n",
       "      <td>5</td>\n",
       "      <td>David</td>\n",
       "      <td>Wilson</td>\n",
       "      <td>Operations</td>\n",
       "      <td>58000</td>\n",
       "      <td>2024-04-28</td>\n",
       "      <td>1</td>\n",
       "    </tr>\n",
       "  </tbody>\n",
       "</table>\n",
       "</div>"
      ],
      "text/plain": [
       "   employee_id first_name last_name  department  salary   hire_date  \\\n",
       "0            1       John       Doe       Sales   50000  2024-04-23   \n",
       "1            2       Jane     Smith   Marketing   55000  2024-04-25   \n",
       "2            3    Michael   Johnson       Sales   60000  2024-04-26   \n",
       "3            4      Emily     Davis  Operations   62000  2024-04-27   \n",
       "4            5      David    Wilson  Operations   58000  2024-04-28   \n",
       "\n",
       "   performance_rating  \n",
       "0                   3  \n",
       "1                   4  \n",
       "2                   5  \n",
       "3                   2  \n",
       "4                   1  "
      ]
     },
     "execution_count": 13,
     "metadata": {},
     "output_type": "execute_result"
    }
   ],
   "source": [
    "import sqlite3\n",
    "import pandas as pd\n",
    "\n",
    "# Create your connection.\n",
    "conn = sqlite3.connect('pandas-sql.db')\n",
    "df = pd.read_sql_query(\"SELECT * FROM employees\", conn)\n",
    "\n",
    "# Insert Pandas code here\n",
    "\n",
    "# Save Changes and close the connections\n",
    "conn.commit()\n",
    "conn.close()\n",
    "\n",
    "df"
   ]
  }
 ],
 "metadata": {
  "kernelspec": {
   "display_name": "venv",
   "language": "python",
   "name": "python3"
  },
  "language_info": {
   "codemirror_mode": {
    "name": "ipython",
    "version": 3
   },
   "file_extension": ".py",
   "mimetype": "text/x-python",
   "name": "python",
   "nbconvert_exporter": "python",
   "pygments_lexer": "ipython3",
   "version": "3.12.0"
  }
 },
 "nbformat": 4,
 "nbformat_minor": 2
}
