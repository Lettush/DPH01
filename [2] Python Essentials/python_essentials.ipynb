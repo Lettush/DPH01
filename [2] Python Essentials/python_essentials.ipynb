{
 "cells": [
  {
   "cell_type": "code",
   "execution_count": 1,
   "metadata": {},
   "outputs": [
    {
     "data": {
      "text/plain": [
       "\"\\nThis is for creating\\nmulti-line comments.\\nIt's enclosed in triple quotes.\\n\""
      ]
     },
     "execution_count": 1,
     "metadata": {},
     "output_type": "execute_result"
    }
   ],
   "source": [
    "# Python Essentials\n",
    "\n",
    "# This is an inline comment.\n",
    "\n",
    "\"\"\"\n",
    "This is for creating\n",
    "multi-line comments.\n",
    "It's enclosed in triple quotes.\n",
    "\"\"\""
   ]
  },
  {
   "cell_type": "code",
   "execution_count": 2,
   "metadata": {},
   "outputs": [
    {
     "name": "stdout",
     "output_type": "stream",
     "text": [
      "Hello, World!\n"
     ]
    }
   ],
   "source": [
    "# Printing\n",
    "print(\"Hello, World!\")"
   ]
  },
  {
   "cell_type": "markdown",
   "metadata": {},
   "source": [
    "### Python Variables\n",
    "\n",
    "**Creating Variables**\n",
    "\n",
    "Creating a variable in Python is simple. You assign a value to a variable name and start using it. Python figures out the variable type automatically.\n",
    "\n",
    "**Variable Naming Rules**\n",
    "- Variable names can contain letters (both uppercase and lowercase), digits, and underscores.\n",
    "- They must begin with a letter or an underscore (_), but not with a digit.\n",
    "- Case sensitive (myVar and myvar are different variables)\n",
    "- Python keywords cannot be used as variable names."
   ]
  },
  {
   "cell_type": "code",
   "execution_count": 3,
   "metadata": {},
   "outputs": [
    {
     "name": "stdout",
     "output_type": "stream",
     "text": [
      "10\n"
     ]
    }
   ],
   "source": [
    "# Variables\n",
    "x = 10\n",
    "print(x)"
   ]
  },
  {
   "cell_type": "code",
   "execution_count": 4,
   "metadata": {},
   "outputs": [],
   "source": [
    "# Avoid this! (Reserved Keyword/Function)\n",
    "# print = 10\n",
    "# print(print)"
   ]
  },
  {
   "cell_type": "code",
   "execution_count": 5,
   "metadata": {},
   "outputs": [
    {
     "name": "stdout",
     "output_type": "stream",
     "text": [
      "22\n"
     ]
    }
   ],
   "source": [
    "_my_number = 22\n",
    "print(_my_number)"
   ]
  },
  {
   "cell_type": "code",
   "execution_count": 6,
   "metadata": {},
   "outputs": [],
   "source": [
    "# Things to Avoid\n",
    "# x - 2 = 10\n",
    "# True = 5\n",
    "# 2 = 5"
   ]
  },
  {
   "cell_type": "markdown",
   "metadata": {},
   "source": [
    "## Data Types\n",
    "\n",
    "#### Numeric Types\n",
    "\n",
    "**int** - Integer values, such as `5`, `-3`, `1000`, etc.\n",
    "\n",
    "**float**: Floating-point values, representing decimal numbers, such as `3.14`, `-0.001`, `2.0`, etc."
   ]
  },
  {
   "cell_type": "code",
   "execution_count": 9,
   "metadata": {},
   "outputs": [
    {
     "name": "stdout",
     "output_type": "stream",
     "text": [
      "5 -20\n",
      "Type of integer_number: <class 'int'>\n"
     ]
    }
   ],
   "source": [
    "# int\n",
    "integer_number = 5\n",
    "negative_int = -20\n",
    "\n",
    "print(integer_number, negative_int)\n",
    "print('Type of integer_number:', type(integer_number))"
   ]
  },
  {
   "cell_type": "code",
   "execution_count": null,
   "metadata": {},
   "outputs": [
    {
     "name": "stdout",
     "output_type": "stream",
     "text": [
      "2.14 -20.55\n",
      "Type of float_number <class 'float'>\n"
     ]
    }
   ],
   "source": [
    "# float\n",
    "float_number = 2.14\n",
    "negative_float = -20.55\n",
    "\n",
    "print(float_number, negative_float)\n",
    "print('Type of float_number', type(float_number))"
   ]
  },
  {
   "cell_type": "markdown",
   "metadata": {},
   "source": [
    "## Sequence Types\n",
    "\n",
    "1. **String**: String values, representing text or characters, such as 'hello', \"world\", '123', etc.\n",
    "2. **Lists**: Lists are used when you need a collection of elements that can be modified or reordered. They are suitable for sequences of items of the same type or different types.\n",
    "3. **Tuple**: Tuples are used when you want to store a fixed collection of elements that should not be changed. They are often used for immutable sequences, such as coordinates, database records, or function return values.\n",
    "4. **Dictionaries**:  Dictionaries are used when you need to associate keys with values for efficient lookup. They are suitable for representing data with key-value relationships, such as mappings, configurations, or database records indexed by unique keys."
   ]
  },
  {
   "cell_type": "code",
   "execution_count": 12,
   "metadata": {},
   "outputs": [
    {
     "name": "stdout",
     "output_type": "stream",
     "text": [
      "Hello World! Hello to the world of Python! user123\n",
      "H\n",
      "!\n"
     ]
    }
   ],
   "source": [
    "str1 = \"Hello World!\"\n",
    "str2 = \"Hello to the world of Python!\"\n",
    "user = \"user123\"\n",
    "\n",
    "print(str1, str2, user)\n",
    "\n",
    "# String Indexing\n",
    "print(str1[0]) # First Character of the String\n",
    "print(str1[-1]) # Last Character"
   ]
  },
  {
   "cell_type": "code",
   "execution_count": 16,
   "metadata": {},
   "outputs": [
    {
     "name": "stdout",
     "output_type": "stream",
     "text": [
      "[1, 2, 3, 4, 5]\n",
      "['Alice', 'Bob', 'Charlie']\n",
      "[21, 'Test', -300.2]\n",
      "21\n"
     ]
    }
   ],
   "source": [
    "# Lists\n",
    "numbers = [1, 2, 3, 4, 5] # A list of integers\n",
    "names = ['Alice', 'Bob', 'Charlie'] # A list of strings\n",
    "numbers_and_strings = [21, 'Test', -300.2]\n",
    "\n",
    "print(numbers)\n",
    "print(names)\n",
    "print(numbers_and_strings)\n",
    "\n",
    "# List Indexing\n",
    "numbers[0] = 21\n",
    "print(numbers[0]) # First value in the numbers list"
   ]
  },
  {
   "cell_type": "code",
   "execution_count": 17,
   "metadata": {},
   "outputs": [
    {
     "name": "stdout",
     "output_type": "stream",
     "text": [
      "(1, 'hello', 3.14)\n"
     ]
    }
   ],
   "source": [
    "# Tuples\n",
    "tuple_values = (1, 'hello', 3.14)\n",
    "print(tuple_values)"
   ]
  },
  {
   "cell_type": "code",
   "execution_count": 18,
   "metadata": {},
   "outputs": [
    {
     "ename": "TypeError",
     "evalue": "'tuple' object does not support item assignment",
     "output_type": "error",
     "traceback": [
      "\u001b[1;31m---------------------------------------------------------------------------\u001b[0m",
      "\u001b[1;31mTypeError\u001b[0m                                 Traceback (most recent call last)",
      "Cell \u001b[1;32mIn[18], line 1\u001b[0m\n\u001b[1;32m----> 1\u001b[0m \u001b[43mtuple_values\u001b[49m\u001b[43m[\u001b[49m\u001b[38;5;241;43m0\u001b[39;49m\u001b[43m]\u001b[49m \u001b[38;5;241m=\u001b[39m \u001b[38;5;241m2\u001b[39m\n\u001b[0;32m      2\u001b[0m \u001b[38;5;28mprint\u001b[39m(tuple_values)\n",
      "\u001b[1;31mTypeError\u001b[0m: 'tuple' object does not support item assignment"
     ]
    }
   ],
   "source": [
    "tuple_values[0] = 2\n",
    "print(tuple_values)"
   ]
  },
  {
   "cell_type": "code",
   "execution_count": 23,
   "metadata": {},
   "outputs": [
    {
     "name": "stdout",
     "output_type": "stream",
     "text": [
      "[20, (10, 'Hello')]\n",
      "10\n"
     ]
    }
   ],
   "source": [
    "# List and Tuples\n",
    "nested_list_and_tuple = [20, (10, \"Hello\")]\n",
    "print(nested_list_and_tuple)\n",
    "\n",
    "# Assignment\n",
    "nested_list_and_tuple[0] = 30\n",
    "# nested_list_and_tuple[1][0] = 20\n",
    "\n",
    "# Indexing in a nested tuple\n",
    "print(nested_list_and_tuple[1][0])"
   ]
  },
  {
   "cell_type": "markdown",
   "metadata": {},
   "source": [
    "# Day 03 - Data Analytics"
   ]
  },
  {
   "cell_type": "code",
   "execution_count": 2,
   "metadata": {},
   "outputs": [
    {
     "name": "stdout",
     "output_type": "stream",
     "text": [
      "Billy\n",
      "<class 'dict'>\n"
     ]
    }
   ],
   "source": [
    "# Dictionaries\n",
    "\n",
    "person = {\n",
    "    'name': 'Billy',\n",
    "    'age': 24\n",
    "}\n",
    "\n",
    "print(person['name'])\n",
    "print(type(person))"
   ]
  },
  {
   "cell_type": "markdown",
   "metadata": {},
   "source": [
    "### Boolean Type:\n",
    "\n",
    "**bool**: Boolean values representing True or False."
   ]
  },
  {
   "cell_type": "code",
   "execution_count": 4,
   "metadata": {},
   "outputs": [
    {
     "name": "stdout",
     "output_type": "stream",
     "text": [
      "True\n",
      "False\n",
      "<class 'bool'>\n"
     ]
    }
   ],
   "source": [
    "is_valid = True\n",
    "is_admin = False\n",
    "print(is_valid)\n",
    "print(is_admin)\n",
    "print(type(is_valid))"
   ]
  },
  {
   "cell_type": "markdown",
   "metadata": {},
   "source": [
    "**Dynamic Typing**\n",
    "\n",
    "Variables can change type after they have been set. This is known as dynamic typing."
   ]
  },
  {
   "cell_type": "code",
   "execution_count": 7,
   "metadata": {},
   "outputs": [
    {
     "name": "stdout",
     "output_type": "stream",
     "text": [
      "<class 'int'>\n",
      "<class 'str'>\n",
      "<class 'float'>\n"
     ]
    }
   ],
   "source": [
    "my_var = 10\n",
    "print(type(my_var))\n",
    "\n",
    "my_var = \"Test String!\"\n",
    "print(type(my_var))\n",
    "\n",
    "my_var = 1.2\n",
    "print(type(my_var))"
   ]
  },
  {
   "cell_type": "markdown",
   "metadata": {},
   "source": [
    "## Python Operators and Expressions"
   ]
  },
  {
   "cell_type": "markdown",
   "metadata": {},
   "source": [
    "### Arithmetic Operators"
   ]
  },
  {
   "cell_type": "code",
   "execution_count": 15,
   "metadata": {},
   "outputs": [
    {
     "name": "stdout",
     "output_type": "stream",
     "text": [
      "Addition: 15\n",
      "Subtraction: -5\n",
      "Multiplication: 50\n",
      "Division: 0.5\n",
      "Modulus: 2\n",
      "Is it even? 0\n",
      "Is it even? 1\n",
      "Exponentiation: 1000\n"
     ]
    }
   ],
   "source": [
    "# Addition (+)\n",
    "print(\"Addition:\", 5 + 10)\n",
    "\n",
    "# Subtraction (-)\n",
    "print(\"Subtraction:\", 5 - 10)\n",
    "\n",
    "# Multiplication (*)\n",
    "print(\"Multiplication:\", 5 * 10)\n",
    "\n",
    "# Division (/)\n",
    "print(\"Division:\", 5 / 10)\n",
    "\n",
    "# Modulus (%)\n",
    "print(\"Modulus:\", 23 % 7) # 23 / 7 = 3 r 2\n",
    "print(\"Is it even?\", 22 % 2) # = 0\n",
    "print(\"Is it even?\", 23 % 2) # = 1\n",
    "\n",
    "# Exponentiation (**)\n",
    "print(\"Exponentiation:\", 10 ** 3) # 10^3"
   ]
  },
  {
   "cell_type": "code",
   "execution_count": 16,
   "metadata": {},
   "outputs": [
    {
     "name": "stdout",
     "output_type": "stream",
     "text": [
      "9.0\n"
     ]
    }
   ],
   "source": [
    "# PEMDAS / BODMAS\n",
    "print(10 + 8 / 4 * 2 - 5)"
   ]
  },
  {
   "cell_type": "markdown",
   "metadata": {},
   "source": [
    "### Comparison Operators"
   ]
  },
  {
   "cell_type": "code",
   "execution_count": 26,
   "metadata": {},
   "outputs": [
    {
     "name": "stdout",
     "output_type": "stream",
     "text": [
      "False\n",
      "True\n",
      "True\n",
      "False\n",
      "True\n",
      "False\n",
      "False\n",
      "True\n"
     ]
    }
   ],
   "source": [
    "x = 10\n",
    "y = 5\n",
    "\n",
    "# Equal to\n",
    "result = x == y\n",
    "print(result)\n",
    "\n",
    "# Not equal to\n",
    "result = x != y\n",
    "print(result)\n",
    "\n",
    "# Greater than\n",
    "result = x > y\n",
    "print(result)\n",
    "\n",
    "# Less than\n",
    "result = x < y\n",
    "print(result)\n",
    "\n",
    "# Greater than or equal to\n",
    "result = x >= y\n",
    "print(result)\n",
    "\n",
    "# Less than or equal to\n",
    "result = x <= y\n",
    "print(result)\n",
    "\n",
    "str1 = \"Hello\"\n",
    "str2 = \"Goodbye\"\n",
    "\n",
    "# Equal to\n",
    "result = str1 == str2\n",
    "print(result)"
   ]
  },
  {
   "cell_type": "markdown",
   "metadata": {},
   "source": [
    "### Logical Operators"
   ]
  },
  {
   "cell_type": "code",
   "execution_count": 31,
   "metadata": {},
   "outputs": [
    {
     "name": "stdout",
     "output_type": "stream",
     "text": [
      "True\n",
      "True\n",
      "False\n"
     ]
    }
   ],
   "source": [
    "x = 10\n",
    "y = 5\n",
    "\n",
    "# AND (both are true == true)\n",
    "result = (x > 5) and (y < 10)\n",
    "print(result)\n",
    "\n",
    "# OR (at least one is true == true)\n",
    "result = (x > 5) or (y < 3)\n",
    "print(result)\n",
    "\n",
    "# NOT (opposite of a statement/boolean)\n",
    "result = not (x == 10)\n",
    "print(result)"
   ]
  },
  {
   "cell_type": "markdown",
   "metadata": {},
   "source": [
    "### Assignment Operators"
   ]
  },
  {
   "cell_type": "code",
   "execution_count": 37,
   "metadata": {},
   "outputs": [
    {
     "name": "stdout",
     "output_type": "stream",
     "text": [
      "15\n",
      "10\n",
      "50\n",
      "10\n"
     ]
    }
   ],
   "source": [
    "# Single equals sign\n",
    "x = 10\n",
    "\n",
    "# Addition Assignment\n",
    "x += 5 # x = x + 5\n",
    "print(x) # 15\n",
    "\n",
    "# Subtraction Assignment\n",
    "x -= 5 # x = x - 5\n",
    "print(x) # 10\n",
    "\n",
    "# Multiplication Assignment\n",
    "x *= 5 # x = x * 5\n",
    "print(x) # 50\n",
    "\n",
    "# Division Assignment\n",
    "x /= 5 # x = x / 5\n",
    "print(x) # 10\n"
   ]
  },
  {
   "cell_type": "markdown",
   "metadata": {},
   "source": [
    "### Type Coercion or Type Conversion"
   ]
  },
  {
   "cell_type": "code",
   "execution_count": 48,
   "metadata": {},
   "outputs": [
    {
     "name": "stdout",
     "output_type": "stream",
     "text": [
      "10.0\n",
      "<class 'float'>\n",
      "10.23\n",
      "<class 'str'>\n",
      "10.23\n",
      "<class 'float'>\n",
      "10\n",
      "<class 'int'>\n",
      "3.14\n",
      "3\n"
     ]
    }
   ],
   "source": [
    "x = 10 # int\n",
    "\n",
    "# converting to float\n",
    "x = float(x)\n",
    "\n",
    "print(x)\n",
    "print(type(x))\n",
    "\n",
    "# converting to string\n",
    "x = 10.23\n",
    "x = str(x)\n",
    "\n",
    "print(x)\n",
    "print(type(x))\n",
    "\n",
    "# cant convert string to int if there are decimal places or an error will happen\n",
    "\n",
    "# converting to float\n",
    "x = float(x)\n",
    "\n",
    "print(x)\n",
    "print(type(x))\n",
    "\n",
    "# converting to int (will remove decimal places)\n",
    "x = int(x)\n",
    "\n",
    "print(x)\n",
    "print(type(x))\n",
    "\n",
    "# round\n",
    "x = 3.1415\n",
    "print(round(x, 2))\n",
    "print(round(x))"
   ]
  },
  {
   "cell_type": "markdown",
   "metadata": {},
   "source": [
    "## String Methods"
   ]
  },
  {
   "cell_type": "code",
   "execution_count": 54,
   "metadata": {},
   "outputs": [
    {
     "name": "stdout",
     "output_type": "stream",
     "text": [
      "Hello, Python!\n",
      "14\n",
      "H\n",
      "Hello\n",
      "!gnirts siht esreveR\n"
     ]
    }
   ],
   "source": [
    "my_string = \"Hello, Python!\"\n",
    "print(my_string)\n",
    "print(len(my_string))\n",
    "\n",
    "first_letter = my_string[0]\n",
    "print(first_letter)\n",
    "\n",
    "slice_string = my_string[0:5]\n",
    "print(slice_string)\n",
    "\n",
    "my_text = \"Reverse this string!\"\n",
    "# starting point : ending point : increment/traversal method\n",
    "reversed_string = my_text[::-1]\n",
    "print(reversed_string)"
   ]
  },
  {
   "cell_type": "code",
   "execution_count": 64,
   "metadata": {},
   "outputs": [
    {
     "name": "stdout",
     "output_type": "stream",
     "text": [
      "Data analytics course\n",
      "Data Analytics Course\n",
      "5\n",
      "-1\n",
      "True\n",
      "False\n",
      "information analytics course\n",
      "Information Analytics Course\n",
      "DATA ANALYTICS COURSE\n",
      "data analytics course\n"
     ]
    }
   ],
   "source": [
    "sample_string = \"data analytics course\"\n",
    "\n",
    "# capitalize\n",
    "print(sample_string.capitalize())\n",
    "\n",
    "# title\n",
    "print(sample_string.title())\n",
    "\n",
    "# find (returns starting index of target word)\n",
    "print(sample_string.find(\"analytics\"))\n",
    "print(sample_string.find(\"science\")) # word not found == -1\n",
    "\n",
    "# in (if it contains target word)\n",
    "print(\"data\" in sample_string)\n",
    "print(\"programming\" in sample_string)\n",
    "\n",
    "# replace\n",
    "print(sample_string.replace(\"data\", \"information\"))\n",
    "\n",
    "# combining methods\n",
    "print(sample_string.replace(\"data\", \"information\").title())\n",
    "\n",
    "# lower/upper\n",
    "print(sample_string.upper())\n",
    "print(sample_string.lower())"
   ]
  },
  {
   "cell_type": "code",
   "execution_count": 72,
   "metadata": {},
   "outputs": [
    {
     "name": "stdout",
     "output_type": "stream",
     "text": [
      "2\n",
      "Data Analyst - Junior\n",
      "Words: ['Python', 'is', 'fun', 'to', 'learn']\n"
     ]
    }
   ],
   "source": [
    "text = \"the quick brown fox jumps over the lazy dog\"\n",
    "\n",
    "# count (gets instances of a target in a string)\n",
    "print(text.count(\"the\"))\n",
    "\n",
    "messy_string = \"   Data Analyst - Junior    \"\n",
    "\n",
    "# strip (removing leading and trailing whitespaces)\n",
    "clean_string = messy_string.strip()\n",
    "print(clean_string)\n",
    "\n",
    "# split (separate your string into groups depending on a target string)\n",
    "sentence = \"Python,is,fun,to,learn\"\n",
    "words = sentence.split(\",\")\n",
    "print(\"Words:\", words)"
   ]
  },
  {
   "cell_type": "markdown",
   "metadata": {},
   "source": [
    "## Concatenation, f-strings and .format()"
   ]
  },
  {
   "cell_type": "code",
   "execution_count": 79,
   "metadata": {},
   "outputs": [
    {
     "name": "stdout",
     "output_type": "stream",
     "text": [
      "Vinson Chua\n",
      "My job title is Data Analyst.\n",
      "Python is fun to learn.\n",
      "\n",
      "SELECT * FROM table1\n",
      "WHERE\n",
      "x in (Vinson)\n",
      "\n"
     ]
    }
   ],
   "source": [
    "# Concatenation\n",
    "first_name = \"Vinson\"\n",
    "last_name = \"Chua\"\n",
    "\n",
    "full_name = first_name + \" \" + last_name\n",
    "print(full_name)\n",
    "\n",
    "# f-strings\n",
    "job_1 = \"Data\"\n",
    "job_2 = \"Analyst\"\n",
    "\n",
    "print(f\"My job title is {job_1} {job_2}.\")\n",
    "\n",
    "print(f\"{words[0]} {words[1]} {words[2]} {words[3]} {words[4]}.\")\n",
    "\n",
    "# .format()\n",
    "sql_str = \"\"\"\n",
    "SELECT * FROM table1\n",
    "WHERE\n",
    "x in ({x})\n",
    "\"\"\"\n",
    "\n",
    "print(sql_str.format(x=first_name))"
   ]
  },
  {
   "cell_type": "markdown",
   "metadata": {},
   "source": [
    "## List Methods"
   ]
  },
  {
   "cell_type": "code",
   "execution_count": 90,
   "metadata": {},
   "outputs": [
    {
     "name": "stdout",
     "output_type": "stream",
     "text": [
      "['Python', 'Java', 'C++']\n",
      "['Python', 'Java', 'C++', 'PHP']\n",
      "['Python', 'Java', 'Ruby', 'C++', 'PHP']\n",
      "['Python', 'Java', 'Ruby', 'C++']\n",
      "['Python', 'Java', 'Ruby']\n",
      "['Python', 'Ruby']\n"
     ]
    }
   ],
   "source": [
    "# Creating a List\n",
    "my_list = [\"Python\", \"Java\", \"C++\"]\n",
    "print(my_list)\n",
    "\n",
    "# Adding/Appending a new item to the end of a list\n",
    "my_list.append(\"PHP\")\n",
    "print(my_list)\n",
    "\n",
    "# Insert an item at a specific position\n",
    "my_list.insert(2, \"Ruby\")\n",
    "print(my_list)\n",
    "\n",
    "# Remove element at end of list\n",
    "my_list.pop()\n",
    "print(my_list)\n",
    "\n",
    "# Remove by value\n",
    "my_list.remove(\"C++\")\n",
    "print(my_list)\n",
    "\n",
    "# Remove by index\n",
    "del my_list[1]\n",
    "print(my_list)"
   ]
  },
  {
   "cell_type": "code",
   "execution_count": 92,
   "metadata": {},
   "outputs": [
    {
     "data": {
      "text/plain": [
       "[4, 3, 2, 1]"
      ]
     },
     "execution_count": 92,
     "metadata": {},
     "output_type": "execute_result"
    }
   ],
   "source": [
    "# list slicing\n",
    "list_data = [1, 2, 3, 4, 5]\n",
    "\n",
    "# starting point : ending point : increment/traversal method\n",
    "list_data[3:] # 4, 5\n",
    "list_data[3::-1] # 4, 3, 2, 1"
   ]
  },
  {
   "cell_type": "code",
   "execution_count": 96,
   "metadata": {},
   "outputs": [
    {
     "name": "stdout",
     "output_type": "stream",
     "text": [
      "[1, 2, 3, 'a', 'b', True]\n",
      "[1, 2, 3, 'a', 'b', True]\n"
     ]
    }
   ],
   "source": [
    "# list extending\n",
    "list_a = [1, 2, 3]\n",
    "list_b = [\"a\", \"b\", True]\n",
    "\n",
    "# combining two lists together\n",
    "print(list_a + list_b)\n",
    "\n",
    "# extending a list with another list\n",
    "list_a.extend(list_b)\n",
    "print(list_a)"
   ]
  },
  {
   "cell_type": "code",
   "execution_count": 100,
   "metadata": {},
   "outputs": [
    {
     "name": "stdout",
     "output_type": "stream",
     "text": [
      "[3, 4, 8, 8, 9, 10, 16]\n",
      "[16, 10, 9, 8, 8, 4, 3]\n",
      "['Aaron', 'Ava', 'Dave', 'Michael']\n"
     ]
    }
   ],
   "source": [
    "# sort\n",
    "list_data = [3,4,1,8,9,10,8]\n",
    "list_data[2] = 16\n",
    "list_data.sort()\n",
    "print(list_data)\n",
    "\n",
    "# Descending order\n",
    "list_data.sort(reverse=True)\n",
    "print(list_data)\n",
    "\n",
    "list_data = [\"Aaron\", \"Michael\", \"Dave\", \"Ava\"]\n",
    "list_data.sort()\n",
    "print(list_data)"
   ]
  },
  {
   "cell_type": "markdown",
   "metadata": {},
   "source": [
    "## Tuple Methods"
   ]
  },
  {
   "cell_type": "code",
   "execution_count": 108,
   "metadata": {},
   "outputs": [
    {
     "name": "stdout",
     "output_type": "stream",
     "text": [
      "(1, 2, 3, 4, 5)\n",
      "([1, 30], [3, 4], [5, 6])\n",
      "(1, 2, 3, 4)\n",
      "(1, 2, 1, 2, 1, 2)\n"
     ]
    }
   ],
   "source": [
    "# Creating a tuple\n",
    "tuple_data = (1, 2, 3, 4, 5)\n",
    "print(tuple_data)\n",
    "\n",
    "# tuple_data \n",
    "nested_list_tuple = ([1, 2], [3, 4], [5, 6])\n",
    "nested_list_tuple[0][1] = 30\n",
    "# nested_list_tuple[0] = 30\n",
    "print(nested_list_tuple)\n",
    "\n",
    "# Using operations on tuples\n",
    "\n",
    "# Combining Tuples\n",
    "tuple_data = (1, 2) + (3, 4)\n",
    "print(tuple_data)\n",
    "\n",
    "# Duplicating Tuples in one tuple\n",
    "tuple_data = (1, 2) * 3\n",
    "print(tuple_data)"
   ]
  },
  {
   "cell_type": "code",
   "execution_count": 112,
   "metadata": {},
   "outputs": [
    {
     "name": "stdout",
     "output_type": "stream",
     "text": [
      "3\n",
      "2\n"
     ]
    }
   ],
   "source": [
    "tuple_data = (1, 2, 3, 4, 5) + (1, 2, 3, 4, 5)\n",
    "\n",
    "# Find an index of a certain value in your tuple (first occurence)\n",
    "print(tuple_data.index(4))\n",
    "\n",
    "# How many times a certain value is in your tuple\n",
    "print(tuple_data.count(4))"
   ]
  },
  {
   "cell_type": "markdown",
   "metadata": {},
   "source": [
    "## Dictionary Methods"
   ]
  },
  {
   "cell_type": "code",
   "execution_count": 119,
   "metadata": {},
   "outputs": [
    {
     "name": "stdout",
     "output_type": "stream",
     "text": [
      "Jared\n",
      "Antartica\n",
      "{'name': 'Jared', 'address': 'Antartica'}\n",
      "dict_keys(['name', 'address'])\n",
      "dict_values(['Jared', 'Antartica'])\n",
      "dict_items([('name', 'Jared'), ('address', 'Antartica')])\n"
     ]
    }
   ],
   "source": [
    "dict_data = {\n",
    "    \"name\": \"Jared\",\n",
    "    \"age\": 23,\n",
    "    \"address\": \"Antartica\"\n",
    "}\n",
    "\n",
    "# Indexing Method\n",
    "print(dict_data[\"name\"])\n",
    "\n",
    "# get method\n",
    "print(dict_data.get(\"address\"))\n",
    "\n",
    "# Remove key-value pairs\n",
    "del dict_data[\"age\"]\n",
    "print(dict_data)\n",
    "\n",
    "# List the keys of a dictionary\n",
    "print(dict_data.keys())\n",
    "\n",
    "# List the values of a dictionary\n",
    "print(dict_data.values())\n",
    "\n",
    "# Get key-value pairs\n",
    "print(dict_data.items())"
   ]
  },
  {
   "cell_type": "code",
   "execution_count": 120,
   "metadata": {},
   "outputs": [
    {
     "name": "stdout",
     "output_type": "stream",
     "text": [
      "{'a': 1, 'b': 2, 'c': 200, 'd': 4, 'e': 6}\n"
     ]
    }
   ],
   "source": [
    "dict_data1 = {\"a\": 1, \"b\": 2, \"c\": 3}\n",
    "dict_data2 = {\"c\": 200, \"d\": 4, \"e\": 6}\n",
    "\n",
    "# update (update/merge two dictionaries together)\n",
    "dict_data1.update(dict_data2)\n",
    "print(dict_data1)"
   ]
  },
  {
   "cell_type": "markdown",
   "metadata": {},
   "source": [
    "**Getting a Dictionary of Keys and Default Values**"
   ]
  },
  {
   "cell_type": "code",
   "execution_count": 125,
   "metadata": {},
   "outputs": [
    {
     "name": "stdout",
     "output_type": "stream",
     "text": [
      "{'a': 1, 'b': 2, 'c': 0}\n"
     ]
    }
   ],
   "source": [
    "keys = ['a', 'b', 'c']\n",
    "default_value = 0\n",
    "\n",
    "# generate a dictionary with a list of keys and a default value\n",
    "dict_data3 = dict.fromkeys(keys, default_value)\n",
    "\n",
    "# setting new values for keys\n",
    "dict_data3['a'] = 1\n",
    "dict_data3['b'] = 2\n",
    "print(dict_data3)"
   ]
  },
  {
   "cell_type": "markdown",
   "metadata": {},
   "source": [
    "# Control Flows and Statements"
   ]
  },
  {
   "cell_type": "code",
   "execution_count": 144,
   "metadata": {},
   "outputs": [
    {
     "name": "stdout",
     "output_type": "stream",
     "text": [
      "Wow, it's not hot.\n",
      "It's a regular day.\n",
      "0\n",
      "1\n",
      "2\n",
      "While loop is done!\n",
      "0\n",
      "1\n",
      "2\n",
      "3\n",
      "4\n",
      "5\n",
      "6\n",
      "7\n",
      "8\n",
      "9\n",
      "1\n",
      "2\n",
      "3\n",
      "4\n",
      "5\n",
      "1 2 3 4 5 \n",
      "t\n",
      "e\n",
      "s\n",
      "t\n",
      "Python is fun to learn .\n"
     ]
    }
   ],
   "source": [
    "# Conditional Statements\n",
    "\n",
    "# if/else\n",
    "temperature = 29\n",
    "\n",
    "if temperature >= 40:\n",
    "    print(\"It's pretty hot.\")\n",
    "elif temperature >= 30:\n",
    "    print(\"It's not as hot as before.\")\n",
    "else:\n",
    "    print(\"Wow, it's not hot.\")\n",
    "\n",
    "# match/case\n",
    "day = \"Wednesday\"\n",
    "\n",
    "match day:\n",
    "    case \"Monday\":\n",
    "        print(\"It's the start of the week.\")\n",
    "    case \"Friday\":\n",
    "        print(\"It's the weekend!\")\n",
    "    case _:\n",
    "        print(\"It's a regular day.\")\n",
    "\n",
    "# Looping Statements\n",
    "\n",
    "# While\n",
    "count = 0\n",
    "\n",
    "while (count < 3):\n",
    "    print(count)\n",
    "    count = count + 1\n",
    "else:\n",
    "    print(\"While loop is done!\")\n",
    "\n",
    "# For\n",
    "\n",
    "# range(number of times to repeat statement)\n",
    "for i in range(10):\n",
    "    print(i)\n",
    "\n",
    "# range(starting value, ending value)\n",
    "for i in range(1, 6):\n",
    "    print(i)\n",
    "\n",
    "# iterable values (lists, tuples, strings, etc.)\n",
    "\n",
    "# looping through lists\n",
    "list_data = [1, 2, 3, 4, 5]\n",
    "# for i in list_data:\n",
    "#     print(\"List data: \", i)\n",
    "\n",
    "# printing horizontally\n",
    "list_str = \"\"\n",
    "for i in list_data:\n",
    "    list_str += f\"{i} \"\n",
    "\n",
    "print(list_str)\n",
    "\n",
    "# looping through strings\n",
    "str4 = \"test\"\n",
    "for i in str4:\n",
    "    print(i)\n",
    "\n",
    "# EXAMPLE FROM BEFORE (words[])\n",
    "words_str = \"\"\n",
    "\n",
    "for i in words:\n",
    "    words_str += f\"{i} \"\n",
    "\n",
    "print(words_str)\n",
    "\n",
    "# Functions"
   ]
  },
  {
   "cell_type": "markdown",
   "metadata": {},
   "source": [
    "## Python Functions\n",
    "\n",
    "- Groups code together into a block.\n",
    "- Allows us to call and reuse code efficently.\n",
    "- It could take in information (parameters) and return information (return statement) to the caller."
   ]
  },
  {
   "cell_type": "code",
   "execution_count": 3,
   "metadata": {},
   "outputs": [
    {
     "name": "stdout",
     "output_type": "stream",
     "text": [
      "Hello, World!\n",
      "Hello, World!\n",
      "Hello, World!\n",
      "Hello, World!\n"
     ]
    }
   ],
   "source": [
    "# no parameters\n",
    "def my_function():\n",
    "    print(\"Hello, World!\")\n",
    "\n",
    "# calling a function\n",
    "my_function()\n",
    "my_function()\n",
    "my_function()\n",
    "my_function()"
   ]
  },
  {
   "cell_type": "code",
   "execution_count": 7,
   "metadata": {},
   "outputs": [
    {
     "name": "stdout",
     "output_type": "stream",
     "text": [
      "Hello, Faith.\n",
      "Alison Estrella\n"
     ]
    }
   ],
   "source": [
    "# parameters and arguments\n",
    "def name_function(fname):\n",
    "    print(f\"Hello, {fname}.\")\n",
    "\n",
    "name_function(\"Faith\")\n",
    "\n",
    "# multiple parameters and arguments\n",
    "def full_name(fname, lname):\n",
    "    print(f\"{fname} {lname}\")\n",
    "\n",
    "full_name(\"Alison\", \"Estrella\")"
   ]
  },
  {
   "cell_type": "code",
   "execution_count": 9,
   "metadata": {},
   "outputs": [
    {
     "name": "stdout",
     "output_type": "stream",
     "text": [
      "Alberto\n",
      "Theresa\n",
      "Emmanuel\n",
      "Gregorio\n"
     ]
    }
   ],
   "source": [
    "# Arbitrary Arguments (*args)\n",
    "def list_function(*kids):\n",
    "    for i in kids:\n",
    "        print(i)\n",
    "\n",
    "list_function(\"Alberto\", \"Theresa\", \"Emmanuel\", \"Gregorio\")"
   ]
  },
  {
   "cell_type": "code",
   "execution_count": 12,
   "metadata": {},
   "outputs": [
    {
     "name": "stdout",
     "output_type": "stream",
     "text": [
      "Banana\n",
      "Grapes\n",
      "Apple\n",
      "The person's name is Edmund Teleron. He is 25 years old.\n"
     ]
    }
   ],
   "source": [
    "# Keyword Arguments\n",
    "def fruit_function(fruit3, fruit2, fruit1):\n",
    "    print(fruit1)\n",
    "    print(fruit2)\n",
    "    print(fruit3)\n",
    "\n",
    "fruit_function(fruit1=\"Banana\", fruit2=\"Grapes\", fruit3=\"Apple\")\n",
    "\n",
    "# Arbitrary Keyword Arguments (**kwargs)\n",
    "# use pass to make placeholder functions\n",
    "def person_function(**details):\n",
    "    print(f\"The person's name is {details[\"fname\"]} {details[\"lname\"]}. He is {details[\"age\"]} years old.\")\n",
    "\n",
    "person_function(fname=\"Edmund\", lname=\"Teleron\", age=25)"
   ]
  },
  {
   "cell_type": "code",
   "execution_count": 13,
   "metadata": {},
   "outputs": [
    {
     "name": "stdout",
     "output_type": "stream",
     "text": [
      "The person's name is Edmund Teleron. He is 25 years old.\n"
     ]
    }
   ],
   "source": [
    "# (parameters, *args, **kwargs)\n",
    "# Arbitrary Keyword Arguments (**kwargs)\n",
    "# use pass to make placeholder functions\n",
    "def person_function(**details):\n",
    "    print(f\"The person's name is {details[\"fname\"]} {details[\"lname\"]}. He is {details[\"age\"]} years old.\")\n",
    "person_function(fname=\"Edmund\", lname=\"Teleron\", age=25)"
   ]
  },
  {
   "cell_type": "code",
   "execution_count": null,
   "metadata": {},
   "outputs": [],
   "source": []
  }
 ],
 "metadata": {
  "kernelspec": {
   "display_name": "venv",
   "language": "python",
   "name": "python3"
  },
  "language_info": {
   "codemirror_mode": {
    "name": "ipython",
    "version": 3
   },
   "file_extension": ".py",
   "mimetype": "text/x-python",
   "name": "python",
   "nbconvert_exporter": "python",
   "pygments_lexer": "ipython3",
   "version": "3.12.0"
  }
 },
 "nbformat": 4,
 "nbformat_minor": 2
}
