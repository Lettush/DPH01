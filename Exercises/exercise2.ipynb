{
 "cells": [
  {
   "cell_type": "markdown",
   "metadata": {},
   "source": [
    "# Grade Calculator\n",
    "\n",
    "In this activity, the user is prompted to enter a score. Based on the score entered, the code uses conditional statements (if, else if, and else) to determine the corresponding grade. \n",
    "\n",
    "- Score is 90 or above, grade = 'A' \n",
    "- Score is between 80 and 89, grade = 'B'\n",
    "- Score is between 70 and 79, grade = 'C'\n",
    "- Score is between 60 and 69, grade = 'D' \n",
    "- Score is below 60, grade = 'F'. \n",
    "\n",
    "Print the grade to the console.\n"
   ]
  },
  {
   "cell_type": "markdown",
   "metadata": {},
   "source": [
    "# Calculating Power/Exponents\n",
    "\n",
    "Write a Python program to calculate the result of raising a given base to a specified exponent.\n",
    "Do not use ** in this exercise.\n",
    "\n",
    "Hint: use **input()** to get user input for getting the base and exponent.\n",
    "\n",
    "- e.g. 2<sup>3</sup> = 8"
   ]
  },
  {
   "cell_type": "code",
   "execution_count": 3,
   "metadata": {},
   "outputs": [
    {
     "name": "stdout",
     "output_type": "stream",
     "text": [
      "Test\n"
     ]
    }
   ],
   "source": []
  },
  {
   "cell_type": "markdown",
   "metadata": {},
   "source": [
    "# Get the Sum of all the items in a list\n",
    "\n",
    "Write a Python program to sum all the items in a list.\n",
    "\n",
    "- e.g. [2, 3, 4] = 8"
   ]
  }
 ],
 "metadata": {
  "kernelspec": {
   "display_name": "venv",
   "language": "python",
   "name": "python3"
  },
  "language_info": {
   "codemirror_mode": {
    "name": "ipython",
    "version": 3
   },
   "file_extension": ".py",
   "mimetype": "text/x-python",
   "name": "python",
   "nbconvert_exporter": "python",
   "pygments_lexer": "ipython3",
   "version": "3.12.0"
  }
 },
 "nbformat": 4,
 "nbformat_minor": 2
}
