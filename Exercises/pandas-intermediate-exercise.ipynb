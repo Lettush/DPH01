{
 "cells": [
  {
   "cell_type": "markdown",
   "metadata": {},
   "source": [
    "### Exercise: Employee Performance Analysis\n",
    "\n",
    "**Scenario:**\n",
    "\n",
    "You work as a human resources analyst for a company that conducts performance evaluations across several departments, including Sales, Marketing, and Operations. Each evaluation entry includes an employee ID, the department, and a performance rating from 1 to 5 (where 5 indicates the highest level of performance). Your task is to analyze these evaluations to identify areas of excellence and areas needing improvement.\n",
    "\n",
    "**Using this SQL script: https://drive.google.com/file/d/1AwO3Dm7vf72x4ZDZJaEV0TEbiOrxR2YS/view?usp=sharing**\n",
    "\n",
    "> Duplicates and empty fields will be kept for tomorrow's exercise.\n",
    "\n",
    "**Objective:**\n",
    "\n",
    "- Calculate the average performance rating for each department.\n",
    "- Identify the department with the highest and lowest average performance rating.\n",
    "- Determine the distribution of performance ratings for each department (how many 1s, 2s, etc.). [BONUS]\n",
    "- Suggest actionable insights based on the analysis."
   ]
  }
 ],
 "metadata": {
  "language_info": {
   "name": "python"
  }
 },
 "nbformat": 4,
 "nbformat_minor": 2
}
