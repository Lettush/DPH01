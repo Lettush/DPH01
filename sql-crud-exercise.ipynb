{
 "cells": [
  {
   "cell_type": "markdown",
   "metadata": {},
   "source": [
    "## PRACTICE EXERCISE"
   ]
  },
  {
   "cell_type": "markdown",
   "metadata": {},
   "source": [
    "**Objective:**\n",
    "Practice performing CRUD operations (Create, Read, Update, Delete) on a database table.\n",
    "\n",
    "**Perform the following tasks:**\n",
    "1. Create a new table named `Books`, with the following columns:\n",
    "  * BookID (Primary Key, Auto-increment)\n",
    "  * Title (Title of the book)\n",
    "  * Author (Author of the book)\n",
    "  * Genre (Genre of the book)\n",
    "  * Publication_Year (Year of publication)\n",
    "  * Price (Price of the Book)\n",
    "2. Insert at least 3 new books into the `Books` table.\n",
    "3. Retrieve all books from the Books table.\n",
    "4. Update the price of a specific book.\n",
    "5. Delete a book from the table."
   ]
  },
  {
   "cell_type": "markdown",
   "metadata": {},
   "source": []
  }
 ],
 "metadata": {
  "language_info": {
   "name": "python"
  }
 },
 "nbformat": 4,
 "nbformat_minor": 2
}
