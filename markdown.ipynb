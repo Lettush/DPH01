{
 "cells": [
  {
   "cell_type": "markdown",
   "metadata": {},
   "source": [
    "# Markdown and Jupyter Basics"
   ]
  },
  {
   "cell_type": "markdown",
   "metadata": {},
   "source": [
    "### Keyboard Shortcuts\n",
    "\n",
    "- **Shift + Enter**: Execute the current cell and move to the next one.\n",
    "- **Ctrl + Enter**: Execute the current cell and remain in the same cell.\n",
    "- **Esc**: Enter command mode, allowing for navigation and execution commands.\n",
    "- **Enter**: Enter edit mode for the currently selected cell.\n",
    "- **A (in command mode)**: Insert a new cell above the current cell.\n",
    "- **B (in command mode)**: Insert a new cell below the current cell.\n",
    "- **M (in command mode)**: Change the current cell to a Markdown cell.\n",
    "- **Y (in command mode)**: Change the current cell to a Code cell."
   ]
  },
  {
   "cell_type": "markdown",
   "metadata": {},
   "source": [
    "**What is Markdown?**\n",
    "\n",
    "Markdown is a lightweight markup language with plain-text formatting syntax, designed to be easy to read and write. It was created by John Gruber in 2004 with the goal of allowing people to write using an easy-to-read and easy-to-write plain text format, which could then be converted into structurally valid XHTML (or HTML). Markdown is widely used for creating documentation, writing README files for projects, and even writing emails."
   ]
  },
  {
   "cell_type": "markdown",
   "metadata": {},
   "source": [
    "## Basic Markdown Syntax"
   ]
  },
  {
   "cell_type": "markdown",
   "metadata": {},
   "source": [
    "# Heading 1, title\n",
    "\n",
    "## Heading 2, major heading\n",
    "\n",
    "### Heading 3, subheadings\n",
    "\n",
    "#### Heading 4, 4th level\n",
    "\n",
    "##### Heading 5, 5th level\n",
    "\n",
    "###### Heading 6, Small Text"
   ]
  },
  {
   "cell_type": "markdown",
   "metadata": {},
   "source": [
    "### Plain Text\n",
    "\n",
    "This is some plain text that we can use.\n",
    "\n",
    "This is the second line."
   ]
  },
  {
   "cell_type": "markdown",
   "metadata": {},
   "source": [
    "### Text Formatting\n",
    "\n",
    "<!-- Bold -->\n",
    "This is some **bold text**.\n",
    "\n",
    "<!-- Italic -->\n",
    "This is some *italicized text*.\n",
    "\n",
    "This is some _italicized text_.\n",
    "\n",
    "<!-- Strikethrough -->\n",
    "This is some ~~invalid text~~.\n",
    "\n",
    "<!-- Superscript and Subscript -->\n",
    "The chemical formula for water is H<sub>2</sub>O.\n",
    "\n",
    "The expression is x<sup>2</sup>.\n"
   ]
  },
  {
   "cell_type": "markdown",
   "metadata": {},
   "source": [
    "<!-- Inline Code -->\n",
    "\n",
    "This statement will generate Hello, World!.\n",
    "\n",
    "`print(\"Hello, World!\")`\n",
    "\n",
    "<!-- Blockquotes -->\n",
    "\n",
    "> Lorem ipsum dolor sit amet, consectetur adipiscing elit. Suspendisse lectus enim, pellentesque bibendum dictum molestie, cursus ut elit. Sed dolor felis, eleifend ut dolor ut, viverra euismod nisl. Phasellus quis enim sit amet velit vestibulum varius. Donec porttitor nisi nec odio blandit faucibus. Duis commodo finibus nulla, vel euismod odio molestie ut. Phasellus tempus finibus orci, eget mattis lorem euismod vitae. \n",
    "\n",
    "<!-- Horizontal Rules -->\n",
    "\n",
    "Section 1\n",
    "\n",
    "---\n",
    "\n",
    "Section 2\n",
    "***\n",
    "\n",
    "Section 3\n",
    "___"
   ]
  },
  {
   "cell_type": "markdown",
   "metadata": {},
   "source": [
    "### Lists\n",
    "\n",
    "<!-- Ordered List -->\n",
    "1. Item 1\n",
    "2. Item 2\n",
    "3. Item 3\n",
    "4. Item 4\n",
    "5. Item 5\n",
    "\n",
    "<!-- Unordered List -->\n",
    "- Apple\n",
    "- Orange\n",
    "- Mango\n",
    "- Strawberry\n",
    "\n",
    "<!-- Nested List -->\n",
    "- HTML\n",
    "    - HyperText Markup Language\n",
    "        - Web Programming\n",
    "    - Purposes\n",
    "        1. Markdown\n",
    "        2. Coding\n",
    "        3. Structuring Websites"
   ]
  },
  {
   "cell_type": "markdown",
   "metadata": {},
   "source": [
    "### Links\n",
    "\n",
    "<!-- [] = Link Text, () = Link -->\n",
    "[Google](https://www.google.com)"
   ]
  },
  {
   "cell_type": "markdown",
   "metadata": {},
   "source": [
    "### Images\n",
    "\n",
    "<!-- [] = Alt Text, () = Link -->\n",
    "![Jupyter](https://cdn.icon-icons.com/icons2/2699/PNG/512/jupyter_logo_icon_169453.png)\n",
    "\n",
    "![CSS](./css.png)"
   ]
  },
  {
   "cell_type": "markdown",
   "metadata": {},
   "source": [
    "### Tables\n",
    "\n",
    "1. Headers: Headers are defined by using a pipe symbol (|) to separate columns and hyphens (-) to separate the header row from the content rows. Each column's width is determined by the width of the content within it.\n",
    "2. Content Rows: Content rows follow the same format as the header row. Each cell's content is separated by pipe symbols (|).\n",
    "3. Formatting: You can include basic formatting within cells, such as italics, bold, or links, just like in regular Markdown text.\n",
    "\n",
    "| Header 1 | Header 2 | Header 3   |\n",
    "|----------|----------|------------|\n",
    "| 1        | Jared    | Instructor |\n",
    "| 2        | Jimmu    | Spy        |\n",
    "| 3        | Edzel    | Listener   |"
   ]
  },
  {
   "cell_type": "markdown",
   "metadata": {},
   "source": []
  }
 ],
 "metadata": {
  "kernelspec": {
   "display_name": "venv",
   "language": "python",
   "name": "python3"
  },
  "language_info": {
   "name": "python",
   "version": "3.12.0"
  }
 },
 "nbformat": 4,
 "nbformat_minor": 2
}
